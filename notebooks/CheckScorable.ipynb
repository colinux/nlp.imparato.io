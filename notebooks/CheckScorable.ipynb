{
 "cells": [
  {
   "cell_type": "code",
   "execution_count": 9,
   "metadata": {},
   "outputs": [],
   "source": [
    "# %load_ext autoreload\n",
    "import os\n",
    "import sys\n",
    "module_path = os.path.abspath(os.path.join('..'))\n",
    "if module_path not in sys.path:\n",
    "    sys.path.append(module_path)"
   ]
  },
  {
   "cell_type": "code",
   "execution_count": 10,
   "metadata": {},
   "outputs": [],
   "source": [
    "import ujson as json\n",
    "from pathlib import Path\n",
    "from glob import glob\n",
    "import spacy\n",
    "from spacy.gold import GoldParse\n",
    "from spacy.scorer import Scorer\n",
    "from spacy.util import load_model_from_path\n",
    "from lang.fr import model"
   ]
  },
  {
   "cell_type": "code",
   "execution_count": null,
   "metadata": {},
   "outputs": [],
   "source": []
  },
  {
   "cell_type": "code",
   "execution_count": 39,
   "metadata": {},
   "outputs": [],
   "source": [
    "model_path = \"../models/plays-small-batches/epoch-878\"\n",
    "train_path = '../training/fulltext-475.json'\n",
    "evaluation_path = '../training/evaluation/fulltext*.json'"
   ]
  },
  {
   "cell_type": "code",
   "execution_count": 3,
   "metadata": {},
   "outputs": [],
   "source": []
  },
  {
   "cell_type": "code",
   "execution_count": 16,
   "metadata": {},
   "outputs": [],
   "source": [
    "def load_files(path_glob):\n",
    "    files = glob(path_glob)\n",
    "    data = []\n",
    "    \n",
    "    for filepath in files:\n",
    "        data.append({\n",
    "            'path': filepath,\n",
    "            'json': read_json(filepath),\n",
    "        })\n",
    "\n",
    "\n",
    "    return data"
   ]
  },
  {
   "cell_type": "code",
   "execution_count": 14,
   "metadata": {},
   "outputs": [],
   "source": [
    "nlp = load_model_from_path(model_path)\n",
    "model.configure(nlp)"
   ]
  },
  {
   "cell_type": "code",
   "execution_count": 6,
   "metadata": {},
   "outputs": [],
   "source": []
  },
  {
   "cell_type": "code",
   "execution_count": 17,
   "metadata": {},
   "outputs": [],
   "source": [
    "def load_file(path):\n",
    "    with open(path, 'r', encoding=\"utf-8\") as file:\n",
    "        return json.loads(file.read())\n",
    "\n",
    "def evaluate(path):\n",
    "    scorer = Scorer()\n",
    "    \n",
    "    text, annotations = load_file(path)\n",
    "        \n",
    "    doc = nlp.make_doc(text)\n",
    "    gold = GoldParse(doc, **annotations)\n",
    "\n",
    "    prediction = nlp(text)\n",
    "\n",
    "    scorer.score(prediction, gold)\n",
    "\n",
    "    return scorer.scores"
   ]
  },
  {
   "cell_type": "code",
   "execution_count": null,
   "metadata": {},
   "outputs": [],
   "source": []
  },
  {
   "cell_type": "code",
   "execution_count": 40,
   "metadata": {},
   "outputs": [
    {
     "name": "stdout",
     "output_type": "stream",
     "text": [
      "NOOK  ../training/fulltext-475.json            ents_p: 0.0 ents_r: 0.0 ents_f: 0.0\n"
     ]
    }
   ],
   "source": [
    "paths = glob(train_path) + glob(evaluation_path)\n",
    "for path in paths:\n",
    "    scores = evaluate(path)\n",
    "    status = \"NOOK\" if scores['ents_p'] == 0 else \"OK\"\n",
    "    \n",
    "    if status == \"NOOK\":\n",
    "        os.rename(path, f\"{path}.error\")\n",
    "        \n",
    "    print(\n",
    "        \"{:<5}\".format(status),\n",
    "        \"{:<40}\".format(path),\n",
    "        \"ents_p:\",\n",
    "        round(scores['ents_p'], 2),\n",
    "        \"ents_r:\",\n",
    "        round(scores['ents_r'], 2),\n",
    "        \"ents_f:\",\n",
    "        round(scores['ents_f'], 2),\n",
    "    )\n",
    "    "
   ]
  },
  {
   "cell_type": "code",
   "execution_count": null,
   "metadata": {},
   "outputs": [],
   "source": []
  },
  {
   "cell_type": "code",
   "execution_count": null,
   "metadata": {},
   "outputs": [],
   "source": []
  }
 ],
 "metadata": {
  "kernelspec": {
   "display_name": "Python 3",
   "language": "python",
   "name": "python3"
  },
  "language_info": {
   "codemirror_mode": {
    "name": "ipython",
    "version": 3
   },
   "file_extension": ".py",
   "mimetype": "text/x-python",
   "name": "python",
   "nbconvert_exporter": "python",
   "pygments_lexer": "ipython3",
   "version": "3.7.2"
  }
 },
 "nbformat": 4,
 "nbformat_minor": 2
}
