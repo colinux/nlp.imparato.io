{
 "cells": [
  {
   "cell_type": "code",
   "execution_count": 87,
   "metadata": {},
   "outputs": [],
   "source": [
    "import random\n",
    "import datetime\n",
    "import ujson as json\n",
    "import csv\n",
    "from pathlib import Path\n",
    "import spacy\n",
    "from spacy.gold import GoldParse\n",
    "from spacy.scorer import Scorer\n",
    "from spacy.util import minibatch, compounding, load_model_from_path\n",
    "from spacy import displacy\n",
    "from spacy.cli.train import print_progress"
   ]
  },
  {
   "cell_type": "code",
   "execution_count": 18,
   "metadata": {},
   "outputs": [],
   "source": [
    "model_name = \"fr_core_news_md\"\n",
    "rehearsal_nlp = spacy.load(model_name)\n",
    "output_path = Path(\"../models\")"
   ]
  },
  {
   "cell_type": "code",
   "execution_count": 19,
   "metadata": {},
   "outputs": [],
   "source": [
    "rehearsal_file = Path(\"../rehearsal/wikipedia.moliere.txt\")\n",
    "# rehearsal_file = Path(\"../rehearsal/combined.txt\")\n",
    "with open(rehearsal_file, 'r', encoding=\"utf-8\") as file:\n",
    "    text = file.read()\n",
    "    rehearsal_source = rehearsal_nlp(text)"
   ]
  },
  {
   "cell_type": "code",
   "execution_count": 20,
   "metadata": {},
   "outputs": [],
   "source": [
    "def rehearsal_texts(count):\n",
    "    sents = list(rehearsal_source.sents)\n",
    "    random_sentences = random.sample(sents, min(count, len(sents)))\n",
    "    return list(map(lambda sent: sent.text.strip(), random_sentences))"
   ]
  },
  {
   "cell_type": "code",
   "execution_count": null,
   "metadata": {},
   "outputs": [],
   "source": []
  },
  {
   "cell_type": "code",
   "execution_count": null,
   "metadata": {},
   "outputs": [],
   "source": []
  },
  {
   "cell_type": "code",
   "execution_count": null,
   "metadata": {},
   "outputs": [],
   "source": []
  },
  {
   "cell_type": "code",
   "execution_count": 56,
   "metadata": {},
   "outputs": [],
   "source": [
    "\n",
    "def data_from_file(file_path):\n",
    "    data = []\n",
    "    with open(file_path, 'r', encoding=\"utf-8\") as file:\n",
    "        for line in file:\n",
    "            if len(line.strip()) == 0:\n",
    "                pass\n",
    "            else:\n",
    "                data.append(json.loads(line))\n",
    "\n",
    "    return data\n"
   ]
  },
  {
   "cell_type": "code",
   "execution_count": 69,
   "metadata": {},
   "outputs": [
    {
     "name": "stdout",
     "output_type": "stream",
     "text": [
      "Loaded 34594 examples.\n",
      "Loaded 7080 evaluation examples.\n"
     ]
    }
   ],
   "source": [
    "example_path = Path(\"../training/training-38.jsonl\")\n",
    "example_path = Path(\"../training/examples-201812278.jsonl\")\n",
    "evaluation_path = Path(\"../training/evaluation.jsonl\")\n",
    "\n",
    "example_data = data_from_file(example_path)\n",
    "print(\"Loaded %d examples.\" % len(example_data))\n",
    "\n",
    "evaluation_data = data_from_file(evaluation_path)\n",
    "print(\"Loaded %d evaluation examples.\" % len(evaluation_data))"
   ]
  },
  {
   "cell_type": "code",
   "execution_count": 70,
   "metadata": {},
   "outputs": [],
   "source": [
    "# evaluation_pct = 20\n",
    "\n",
    "# random.shuffle(example_data)\n",
    "\n",
    "# split_at = round(len(example_data) * evaluation_pct / 100)\n",
    "\n",
    "# evaluation_data = example_data[:split_at]\n",
    "# validation_data = example_data[split_at:]\n",
    "validation_data = example_data"
   ]
  },
  {
   "cell_type": "code",
   "execution_count": 71,
   "metadata": {},
   "outputs": [
    {
     "name": "stdout",
     "output_type": "stream",
     "text": [
      "Loaded 1225 random rehearsal sentences.\n"
     ]
    }
   ],
   "source": [
    "revision_data = []\n",
    "\n",
    "revision_texts = rehearsal_texts(len(validation_data))\n",
    "for doc in rehearsal_nlp.pipe(revision_texts):\n",
    "    entities = [(e.start_char, e.end_char, e.label_) for e in doc.ents]\n",
    "  \n",
    "    revision_data.append((doc.text, { 'entities': entities }))\n",
    "    \n",
    "print(\"Loaded %d random rehearsal sentences.\" % len(revision_data))"
   ]
  },
  {
   "cell_type": "code",
   "execution_count": null,
   "metadata": {},
   "outputs": [],
   "source": []
  },
  {
   "cell_type": "code",
   "execution_count": 72,
   "metadata": {},
   "outputs": [
    {
     "name": "stdout",
     "output_type": "stream",
     "text": [
      "Total train data contains 35819 examples (34594 validation upsampled).\n",
      "Evaluation data contains 7080 examples\n"
     ]
    }
   ],
   "source": [
    "train_data = revision_data + validation_data * 1\n",
    "# train_data = revision_data + random.sample(example_data, 5)\n",
    "print(\"Total train data contains %d examples (%d validation upsampled).\" % (len(train_data), len(validation_data)))\n",
    "print(\"Evaluation data contains %d examples\" % len(evaluation_data))"
   ]
  },
  {
   "cell_type": "code",
   "execution_count": 74,
   "metadata": {},
   "outputs": [],
   "source": [
    "resume_from_it = 49\n",
    "\n",
    "if resume_from_it is not None:\n",
    "    nlp = load_model_from_path(output_path / ('model-%03d' % resume_from_it))\n",
    "else:\n",
    "    nlp = spacy.load(model_name)"
   ]
  },
  {
   "cell_type": "code",
   "execution_count": 75,
   "metadata": {},
   "outputs": [],
   "source": [
    "if 'ner' not in nlp.pipe_names:\n",
    "    ner = nlp.create_pipe('ner')\n",
    "    nlp.add_pipe(ner)\n",
    "# otherwise, get it, so we can add labels to it\n",
    "else:\n",
    "    ner = nlp.get_pipe('ner')"
   ]
  },
  {
   "cell_type": "code",
   "execution_count": 76,
   "metadata": {},
   "outputs": [],
   "source": [
    "LABELS = ('ACT', 'SCENE', 'OTHER-SEP', 'SPEAKER', 'M-SPEAKERS', 'COMMENT', 'HEAD-COMMENT')\n",
    "if resume_from_it is not None:\n",
    "    for label in LABELS:\n",
    "        ner.add_label(label)"
   ]
  },
  {
   "cell_type": "code",
   "execution_count": 77,
   "metadata": {},
   "outputs": [],
   "source": [
    "optimizer = nlp.entity.create_optimizer()"
   ]
  },
  {
   "cell_type": "code",
   "execution_count": 85,
   "metadata": {},
   "outputs": [],
   "source": [
    "stats_path = output_path / \"stats.csv\"\n",
    "if resume_from_it is not None:\n",
    "    stats_file = open(stats_path, \"a\")\n",
    "    stats_csv = csv.writer(stats_file)\n",
    "else:\n",
    "    stats_file = open(stats_path, \"w\")\n",
    "    stats_csv = csv.writer(stats_file)\n",
    "    stats_csv.writerow([\"epoch\", \"start_at\", \"end_at\", \"duration\", \"losses_ner\", \"ents_p\", \"ents_r\", \"ents_f\"])\n",
    "\n",
    "def write_stats(epoch, start_at, end_at, losses, scores):\n",
    "    stats_csv.writerow([\n",
    "        epoch,\n",
    "        start_at, \n",
    "        end_at,\n",
    "        end_at - start_at, \n",
    "        losses['ner'],\n",
    "        scores.get(\"ents_p\", None),\n",
    "        scores.get(\"ents_r\", None),\n",
    "        scores.get(\"ents_f\", None),\n",
    "    ])\n",
    "    \n",
    "    stats_file.flush()"
   ]
  },
  {
   "cell_type": "code",
   "execution_count": 80,
   "metadata": {},
   "outputs": [],
   "source": [
    "def evaluate(model_path, evaluation):\n",
    "    nlp_loaded = load_model_from_path(model_path)\n",
    "        \n",
    "    scorer = Scorer()\n",
    "    for (text, annotations) in evaluation:\n",
    "        doc = nlp_loaded.make_doc(text)\n",
    "        gold = GoldParse(doc, **annotations)\n",
    "        prediction = nlp_loaded(text)\n",
    "\n",
    "        scorer.score(prediction, gold)\n",
    "    \n",
    "    acc_loc = (model_path / 'accuracy.json')\n",
    "    with acc_loc.open('w') as file_:\n",
    "        file_.write(json.dumps(scorer.scores))\n",
    "            \n",
    "    return scorer\n",
    "\n",
    "    del nlp_loaded\n",
    "\n",
    "\n",
    "def save_model(model, path):\n",
    "    with model.use_params(optimizer.averages):\n",
    "        model.to_disk(path)"
   ]
  },
  {
   "cell_type": "code",
   "execution_count": 86,
   "metadata": {},
   "outputs": [
    {
     "name": "stdout",
     "output_type": "stream",
     "text": [
      "Start training at 2018-12-30 12:08:01.047060\n",
      "Epoch 49, losses {'ner': 10.473067509879572} {} end_at: 2018-12-30 12:17:24.679044 duration: 0:09:23.631302\n",
      "Epoch 50, losses {'ner': 8.474316215664377} {'uas': 0.0, 'las': 0.0, 'ents_p': 92.5900435879789, 'ents_r': 93.77323420074349, 'ents_f': 93.17788295047905, 'tags_acc': 0.0, 'token_acc': 100.0} end_at: 2018-12-30 12:30:22.037485 duration: 0:12:57.357061\n",
      "Epoch 51, losses {'ner': 7.353596541617581} {} end_at: 2018-12-30 12:40:08.423886 duration: 0:09:46.385710\n",
      "Epoch 52, losses {'ner': 6.946924080998046} {} end_at: 2018-12-30 12:49:00.922499 duration: 0:08:52.498147\n",
      "Epoch 53, losses {'ner': 7.011000112489917} {} end_at: 2018-12-30 12:57:50.598325 duration: 0:08:49.675177\n",
      "Epoch 54, losses {'ner': 6.725677622729314} {} end_at: 2018-12-30 13:06:38.956537 duration: 0:08:48.357796\n",
      "Epoch 55, losses {'ner': 6.709388064734361} {'uas': 0.0, 'las': 0.0, 'ents_p': 93.46330275229357, 'ents_r': 94.67936802973978, 'ents_f': 94.06740535549399, 'tags_acc': 0.0, 'token_acc': 100.0} end_at: 2018-12-30 13:16:47.724844 duration: 0:10:08.767828\n",
      "Epoch 56, losses {'ner': 5.383461388706199} {} end_at: 2018-12-30 13:25:42.949046 duration: 0:08:55.223791\n",
      "Epoch 57, losses {'ner': 5.502077097578429} {} end_at: 2018-12-30 13:34:38.248069 duration: 0:08:55.298244\n",
      "Epoch 58, losses {'ner': 5.554054153699827} {} end_at: 2018-12-30 13:43:38.155796 duration: 0:08:59.907381\n",
      "Epoch 59, losses {'ner': 5.88121582523744} {} end_at: 2018-12-30 13:52:35.642064 duration: 0:08:57.485616\n",
      "Epoch 60, losses {'ner': 5.909558383521351} {'uas': 0.0, 'las': 0.0, 'ents_p': 93.15537303216973, 'ents_r': 94.86524163568774, 'ents_f': 94.00253251985725, 'tags_acc': 0.0, 'token_acc': 100.0} end_at: 2018-12-30 14:02:59.250203 duration: 0:10:23.607726\n",
      "Epoch 61, losses {'ner': 4.771801939120982} {} end_at: 2018-12-30 14:11:56.643842 duration: 0:08:57.392443\n",
      "Epoch 62, losses {'ner': 5.480054988099424} {} end_at: 2018-12-30 14:20:59.863297 duration: 0:09:03.218957\n",
      "Epoch 63, losses {'ner': 5.668956373685381} {} end_at: 2018-12-30 14:30:12.892520 duration: 0:09:13.028799\n",
      "Epoch 64, losses {'ner': 4.694018842261872} {} end_at: 2018-12-30 14:39:19.199620 duration: 0:09:06.306427\n",
      "Epoch 65, losses {'ner': 5.502093860456505} {'uas': 0.0, 'las': 0.0, 'ents_p': 92.57998638529612, 'ents_r': 94.79553903345726, 'ents_f': 93.67466421765583, 'tags_acc': 0.0, 'token_acc': 100.0} end_at: 2018-12-30 14:49:44.956680 duration: 0:10:25.756615\n",
      "Epoch 66, losses {'ner': 6.62503503102925} {} end_at: 2018-12-30 14:58:52.368243 duration: 0:09:07.410748\n",
      "Epoch 67, losses {'ner': 4.035334631541611} {} end_at: 2018-12-30 15:08:08.253635 duration: 0:09:15.884699\n",
      "Epoch 68, losses {'ner': 5.776368078377789} {} end_at: 2018-12-30 15:17:12.989257 duration: 0:09:04.734124\n",
      "Epoch 69, losses {'ner': 5.288915131909062} {} end_at: 2018-12-30 15:26:20.366358 duration: 0:09:07.376721\n",
      "Epoch 70, losses {'ner': 4.569667567513282} {'uas': 0.0, 'las': 0.0, 'ents_p': 92.68792710706151, 'ents_r': 94.5399628252788, 'ents_f': 93.60478490913275, 'tags_acc': 0.0, 'token_acc': 100.0} end_at: 2018-12-30 15:36:55.630564 duration: 0:10:35.263765\n",
      "Epoch 71, losses {'ner': 4.446140891140414} {} end_at: 2018-12-30 15:46:05.408642 duration: 0:09:09.777574\n",
      "Epoch 72, losses {'ner': 5.536314357611787} {} end_at: 2018-12-30 15:55:19.145569 duration: 0:09:13.735240\n",
      "Epoch 73, losses {'ner': 4.059326683811966} {} end_at: 2018-12-30 16:04:50.357491 duration: 0:09:31.211569\n",
      "Epoch 74, losses {'ner': 4.19620361877688} {} end_at: 2018-12-30 16:14:16.929748 duration: 0:09:26.571892\n",
      "Epoch 75, losses {'ner': 3.9266994494921805} {'uas': 0.0, 'las': 0.0, 'ents_p': 92.62536873156341, 'ents_r': 94.84200743494424, 'ents_f': 93.7205831707037, 'tags_acc': 0.0, 'token_acc': 100.0} end_at: 2018-12-30 16:24:46.409164 duration: 0:10:29.478989\n",
      "Epoch 76, losses {'ner': 5.38458024798986} {} end_at: 2018-12-30 16:34:19.826918 duration: 0:09:33.416222\n",
      "Epoch 77, losses {'ner': 4.386303064341376} {} end_at: 2018-12-30 16:43:38.435661 duration: 0:09:18.608300\n",
      "Epoch 78, losses {'ner': 4.672130172158677} {} end_at: 2018-12-30 16:52:59.640756 duration: 0:09:21.204117\n",
      "Epoch 79, losses {'ner': 4.607000644792132} {} end_at: 2018-12-30 17:02:30.016446 duration: 0:09:30.374866\n",
      "Epoch 80, losses {'ner': 3.3782838358481873} {'uas': 0.0, 'las': 0.0, 'ents_p': 93.15537303216973, 'ents_r': 94.86524163568774, 'ents_f': 94.00253251985725, 'tags_acc': 0.0, 'token_acc': 100.0} end_at: 2018-12-30 17:13:26.100008 duration: 0:10:56.082895\n",
      "Epoch 81, losses {'ner': 4.976151471857629} {} end_at: 2018-12-30 17:23:37.388110 duration: 0:10:11.287511\n",
      "Epoch 82, losses {'ner': 4.654724147781236} {} end_at: 2018-12-30 17:34:27.146463 duration: 0:10:49.756405\n",
      "Epoch 83, losses {'ner': 5.281872535847078} {} end_at: 2018-12-30 17:43:52.953687 duration: 0:09:25.805361\n",
      "Epoch 84, losses {'ner': 4.80125231014258} {} end_at: 2018-12-30 17:53:27.285361 duration: 0:09:34.331018\n",
      "Epoch 85, losses {'ner': 4.030747801721141} {'uas': 0.0, 'las': 0.0, 'ents_p': 92.23806291016066, 'ents_r': 94.70260223048327, 'ents_f': 93.45408689670984, 'tags_acc': 0.0, 'token_acc': 100.0} end_at: 2018-12-30 18:04:20.433506 duration: 0:10:53.147367\n",
      "Epoch 86, losses {'ner': 3.9401210860552904} {} end_at: 2018-12-30 18:13:50.021017 duration: 0:09:29.587100\n",
      "Epoch 87, losses {'ner': 4.189469065551746} {} end_at: 2018-12-30 18:23:21.029119 duration: 0:09:31.007653\n",
      "Epoch 88, losses {'ner': 4.689802732511073} {} end_at: 2018-12-30 18:32:44.267930 duration: 0:09:23.238161\n",
      "Epoch 89, losses {'ner': 3.9954661802746245} {} end_at: 2018-12-30 18:42:16.301732 duration: 0:09:32.033387\n",
      "Epoch 90, losses {'ner': 4.763662954350115} {'uas': 0.0, 'las': 0.0, 'ents_p': 92.51081265649897, 'ents_r': 94.42379182156134, 'ents_f': 93.45751408531677, 'tags_acc': 0.0, 'token_acc': 100.0} end_at: 2018-12-30 18:53:30.937280 duration: 0:11:14.635080\n",
      "Epoch 91, losses {'ner': 4.673279296372973} {} end_at: 2018-12-30 19:03:36.704544 duration: 0:10:05.766889\n",
      "Epoch 92, losses {'ner': 4.032826068967398} {} end_at: 2018-12-30 19:14:45.445370 duration: 0:11:08.740444\n",
      "Epoch 93, losses {'ner': 4.375806340363981} {} end_at: 2018-12-30 19:25:20.256115 duration: 0:10:34.810366\n",
      "Epoch 94, losses {'ner': 3.982834091413795} {} end_at: 2018-12-30 19:36:24.545143 duration: 0:11:04.288591\n",
      "Epoch 95, losses {'ner': 4.587844216086846} {'uas': 0.0, 'las': 0.0, 'ents_p': 92.03259393390675, 'ents_r': 94.47026022304833, 'ents_f': 93.23549644576933, 'tags_acc': 0.0, 'token_acc': 100.0} end_at: 2018-12-30 19:49:21.170753 duration: 0:12:56.622306\n",
      "Epoch 96, losses {'ner': 4.42338483317556} {} end_at: 2018-12-30 19:59:31.546047 duration: 0:10:10.374281\n",
      "Epoch 97, losses {'ner': 5.479908611419012} {} end_at: 2018-12-30 20:10:36.471967 duration: 0:11:04.925510\n",
      "Epoch 98, losses {'ner': 4.125787079047843} {} end_at: 2018-12-30 20:21:02.305954 duration: 0:10:25.833121\n",
      "Epoch 99, losses {'ner': 3.670374066400687} {} end_at: 2018-12-30 20:31:26.301422 duration: 0:10:23.995022\n",
      "Epoch 100, losses {'ner': 4.504063663115352} {'uas': 0.0, 'las': 0.0, 'ents_p': 93.74714742126883, 'ents_r': 95.4460966542751, 'ents_f': 94.58899378309924, 'tags_acc': 0.0, 'token_acc': 100.0} end_at: 2018-12-30 20:43:21.216406 duration: 0:11:54.914242\n",
      "Epoch 101, losses {'ner': 4.265614250050196} {} end_at: 2018-12-30 20:53:26.726560 duration: 0:10:05.509558\n",
      "Epoch 102, losses {'ner': 3.8124153041693067} {} end_at: 2018-12-30 21:04:08.727843 duration: 0:10:42.000544\n",
      "Epoch 103, losses {'ner': 3.8911664578127967} {} end_at: 2018-12-30 21:14:57.049895 duration: 0:10:48.321671\n",
      "Epoch 104, losses {'ner': 5.583391752362688} {} end_at: 2018-12-30 21:25:20.494913 duration: 0:10:23.444635\n",
      "Epoch 105, losses {'ner': 3.3410254575651934} {'uas': 0.0, 'las': 0.0, 'ents_p': 94.21449805625429, 'ents_r': 95.72490706319702, 'ents_f': 94.9636971303446, 'tags_acc': 0.0, 'token_acc': 100.0} end_at: 2018-12-30 21:37:36.738106 duration: 0:12:16.242761\n",
      "Epoch 106, losses {'ner': 4.499521559202509} {} end_at: 2018-12-30 21:49:00.829411 duration: 0:11:24.090806\n",
      "Epoch 107, losses {'ner': 3.6700513935250667} {} end_at: 2018-12-30 22:00:34.970713 duration: 0:11:34.140192\n",
      "Epoch 108, losses {'ner': 4.11461611231156} {} end_at: 2018-12-30 22:11:20.821173 duration: 0:10:45.850078\n"
     ]
    },
    {
     "name": "stdout",
     "output_type": "stream",
     "text": [
      "Epoch 109, losses {'ner': 3.933046725733129} {} end_at: 2018-12-30 22:22:25.053526 duration: 0:11:04.231847\n",
      "Epoch 110, losses {'ner': 4.294804543189605} {'uas': 0.0, 'las': 0.0, 'ents_p': 93.49704411095952, 'ents_r': 95.53903345724906, 'ents_f': 94.50700988278557, 'tags_acc': 0.0, 'token_acc': 100.0} end_at: 2018-12-30 22:34:58.025399 duration: 0:12:32.971523\n",
      "Epoch 111, losses {'ner': 3.9768068124920024} {} end_at: 2018-12-30 22:46:30.899558 duration: 0:11:32.873655\n",
      "Epoch 112, losses {'ner': 3.6770493011478615} {} end_at: 2018-12-30 22:58:54.195371 duration: 0:12:23.295162\n",
      "Epoch 113, losses {'ner': 4.0322246725655715} {} end_at: 2018-12-30 23:11:27.329447 duration: 0:12:33.133053\n",
      "Epoch 114, losses {'ner': 4.096595093699839} {} end_at: 2018-12-30 23:22:22.515814 duration: 0:10:55.185538\n",
      "Epoch 115, losses {'ner': 3.7638948533295418} {'uas': 0.0, 'las': 0.0, 'ents_p': 92.9283771532185, 'ents_r': 95.26022304832715, 'ents_f': 94.07985314364387, 'tags_acc': 0.0, 'token_acc': 100.0} end_at: 2018-12-30 23:34:38.412549 duration: 0:12:15.896141\n",
      "Epoch 116, losses {'ner': 4.221272006740179} {} end_at: 2018-12-30 23:45:26.363180 duration: 0:10:47.948244\n",
      "Epoch 117, losses {'ner': 4.910623865869548} {} end_at: 2018-12-30 23:56:11.227879 duration: 0:10:44.864021\n",
      "Epoch 118, losses {'ner': 3.9159263706197485} {} end_at: 2018-12-31 00:06:55.238474 duration: 0:10:44.010101\n",
      "Epoch 119, losses {'ner': 4.2596263793739455} {} end_at: 2018-12-31 00:17:22.338166 duration: 0:10:27.099297\n",
      "Epoch 120, losses {'ner': 4.43077804755955} {'uas': 0.0, 'las': 0.0, 'ents_p': 93.42948717948718, 'ents_r': 94.81877323420075, 'ents_f': 94.1190036900369, 'tags_acc': 0.0, 'token_acc': 100.0} end_at: 2018-12-31 00:28:51.106768 duration: 0:11:28.768045\n",
      "Epoch 121, losses {'ner': 4.104411641632593} {} end_at: 2018-12-31 00:39:45.112092 duration: 0:10:54.003283\n",
      "Epoch 122, losses {'ner': 4.1413489968469985} {} end_at: 2018-12-31 00:50:44.406199 duration: 0:10:59.293467\n",
      "Epoch 123, losses {'ner': 4.287944385768944} {} end_at: 2018-12-31 01:01:47.031758 duration: 0:11:02.625073\n",
      "Epoch 124, losses {'ner': 4.428617528688628} {} end_at: 2018-12-31 01:12:38.013354 duration: 0:10:50.981228\n",
      "Epoch 125, losses {'ner': 3.949266648073237} {'uas': 0.0, 'las': 0.0, 'ents_p': 93.40533088235294, 'ents_r': 94.44702602230484, 'ents_f': 93.92329020332717, 'tags_acc': 0.0, 'token_acc': 100.0} end_at: 2018-12-31 01:24:29.011574 duration: 0:11:50.997858\n",
      "Epoch 126, losses {'ner': 3.6579055972744423} {} end_at: 2018-12-31 01:34:57.673648 duration: 0:10:28.661531\n",
      "Epoch 127, losses {'ner': 2.839136784222986} {} end_at: 2018-12-31 01:45:54.893214 duration: 0:10:57.219183\n",
      "Epoch 128, losses {'ner': 4.310099988007686} {} end_at: 2018-12-31 01:56:47.787606 duration: 0:10:52.893535\n",
      "Epoch 129, losses {'ner': 4.036333634297464} {} end_at: 2018-12-31 02:08:48.197139 duration: 0:12:00.409065\n",
      "Epoch 130, losses {'ner': 3.4606171329354285} {'uas': 0.0, 'las': 0.0, 'ents_p': 94.25497825589379, 'ents_r': 95.67843866171005, 'ents_f': 94.96137438026058, 'tags_acc': 0.0, 'token_acc': 100.0} end_at: 2018-12-31 02:23:15.836663 duration: 0:14:27.638298\n",
      "Epoch 131, losses {'ner': 3.8964395778828744} {} end_at: 2018-12-31 02:35:24.675498 duration: 0:12:08.835199\n",
      "Epoch 132, losses {'ner': 3.6128947629212265} {} end_at: 2018-12-31 02:47:14.133707 duration: 0:11:49.457309\n",
      "Epoch 133, losses {'ner': 4.717311087577605} {} end_at: 2018-12-31 03:00:05.886104 duration: 0:12:51.751918\n",
      "Epoch 134, losses {'ner': 4.072383608503921} {} end_at: 2018-12-31 03:11:44.209888 duration: 0:11:38.323261\n",
      "Epoch 135, losses {'ner': 3.0427277664055854} {'uas': 0.0, 'las': 0.0, 'ents_p': 93.67435487554236, 'ents_r': 95.30669144981412, 'ents_f': 94.48347345387539, 'tags_acc': 0.0, 'token_acc': 100.0} end_at: 2018-12-31 03:24:30.593039 duration: 0:12:46.382779\n",
      "Epoch 136, losses {'ner': 3.6748146172271023} {} end_at: 2018-12-31 03:34:56.385860 duration: 0:10:25.791931\n",
      "Epoch 137, losses {'ner': 3.917848169514928} {} end_at: 2018-12-31 03:45:34.274513 duration: 0:10:37.888287\n",
      "Epoch 138, losses {'ner': 3.8349124800033136} {} end_at: 2018-12-31 03:56:07.248996 duration: 0:10:32.974085\n",
      "Epoch 139, losses {'ner': 4.264060196475517} {} end_at: 2018-12-31 04:06:46.072296 duration: 0:10:38.822901\n",
      "Epoch 140, losses {'ner': 4.237171809425868} {'uas': 0.0, 'las': 0.0, 'ents_p': 93.24232081911262, 'ents_r': 95.21375464684016, 'ents_f': 94.21772617542246, 'tags_acc': 0.0, 'token_acc': 100.0} end_at: 2018-12-31 04:18:44.704986 duration: 0:11:58.632012\n",
      "Epoch 141, losses {'ner': 4.276801500115735} {} end_at: 2018-12-31 04:29:30.022456 duration: 0:10:45.316947\n",
      "Epoch 142, losses {'ner': 4.057554962842551} {} end_at: 2018-12-31 04:41:05.077932 duration: 0:11:35.054515\n",
      "Epoch 143, losses {'ner': 3.488371196887551} {} end_at: 2018-12-31 04:51:51.293946 duration: 0:10:46.215641\n",
      "Epoch 144, losses {'ner': 4.125158858767439} {} end_at: 2018-12-31 05:01:59.144071 duration: 0:10:07.849738\n",
      "Epoch 145, losses {'ner': 4.613836093423277} {'uas': 0.0, 'las': 0.0, 'ents_p': 93.8415750915751, 'ents_r': 95.23698884758365, 'ents_f': 94.53413284132841, 'tags_acc': 0.0, 'token_acc': 100.0} end_at: 2018-12-31 05:13:47.699993 duration: 0:11:48.555541\n",
      "Epoch 146, losses {'ner': 4.190728123212929} {} end_at: 2018-12-31 05:23:58.380659 duration: 0:10:10.680231\n",
      "Epoch 147, losses {'ner': 3.349496855848586} {} end_at: 2018-12-31 05:34:33.771100 duration: 0:10:35.389766\n",
      "Epoch 148, losses {'ner': 4.2934367691803725} {} end_at: 2018-12-31 05:45:26.105202 duration: 0:10:52.333728\n",
      "Epoch 149, losses {'ner': 4.796125749746693} {} end_at: 2018-12-31 05:55:53.442420 duration: 0:10:27.336841\n",
      "Epoch 150, losses {'ner': 3.578042922618139} {'uas': 0.0, 'las': 0.0, 'ents_p': 93.81751321535279, 'ents_r': 94.84200743494424, 'ents_f': 94.32697862507221, 'tags_acc': 0.0, 'token_acc': 100.0} end_at: 2018-12-31 06:07:43.350582 duration: 0:11:49.907787\n",
      "Epoch 151, losses {'ner': 4.75270726395964} {} end_at: 2018-12-31 06:18:47.580251 duration: 0:11:04.229159\n",
      "Epoch 152, losses {'ner': 4.713415233352343} {} end_at: 2018-12-31 06:29:47.309376 duration: 0:10:59.728462\n",
      "Epoch 153, losses {'ner': 3.475103677354606} {} end_at: 2018-12-31 06:40:15.510172 duration: 0:10:28.200410\n",
      "Epoch 154, losses {'ner': 4.117141741195938} {} end_at: 2018-12-31 06:50:48.707319 duration: 0:10:33.195898\n",
      "Epoch 155, losses {'ner': 4.424798046871738} {'uas': 0.0, 'las': 0.0, 'ents_p': 92.8945570485083, 'ents_r': 94.77230483271374, 'ents_f': 93.8240368027602, 'tags_acc': 0.0, 'token_acc': 100.0} end_at: 2018-12-31 07:02:23.385811 duration: 0:11:34.677949\n",
      "Epoch 156, losses {'ner': 4.41654512580423} {} end_at: 2018-12-31 07:13:09.742633 duration: 0:10:46.356092\n",
      "Epoch 157, losses {'ner': 3.8393346958326684} {} end_at: 2018-12-31 07:24:33.883347 duration: 0:11:24.140339\n",
      "Epoch 158, losses {'ner': 3.967982401647357} {} end_at: 2018-12-31 07:35:46.583987 duration: 0:11:12.700276\n",
      "Epoch 159, losses {'ner': 4.349652784534374} {} end_at: 2018-12-31 07:46:07.105069 duration: 0:10:20.519719\n",
      "Epoch 160, losses {'ner': 3.4856171391192374} {'uas': 0.0, 'las': 0.0, 'ents_p': 93.92898052691866, 'ents_r': 95.26022304832715, 'ents_f': 94.58991809897334, 'tags_acc': 0.0, 'token_acc': 100.0} end_at: 2018-12-31 07:58:57.092356 duration: 0:12:49.986843\n",
      "Epoch 161, losses {'ner': 3.7676164827592578} {} end_at: 2018-12-31 08:10:30.150702 duration: 0:11:33.057893\n",
      "Epoch 162, losses {'ner': 3.301083444965012} {} end_at: 2018-12-31 08:21:32.328049 duration: 0:11:02.176961\n",
      "Epoch 163, losses {'ner': 3.9974420472604857} {} end_at: 2018-12-31 08:32:13.075780 duration: 0:10:40.747348\n",
      "Epoch 164, losses {'ner': 3.711174137456379} {} end_at: 2018-12-31 08:44:52.297647 duration: 0:12:39.221357\n",
      "Epoch 165, losses {'ner': 3.9003780043893492} {'uas': 0.0, 'las': 0.0, 'ents_p': 93.38218456606367, 'ents_r': 94.74907063197026, 'ents_f': 94.06066197670397, 'tags_acc': 0.0, 'token_acc': 100.0} end_at: 2018-12-31 08:57:23.184568 duration: 0:12:30.886532\n",
      "Epoch 166, losses {'ner': 4.729794916997743} {} end_at: 2018-12-31 09:09:27.850156 duration: 0:12:04.664819\n",
      "Epoch 167, losses {'ner': 3.6101338835590133} {} end_at: 2018-12-31 09:20:08.535421 duration: 0:10:40.684478\n",
      "Epoch 168, losses {'ner': 3.30731926811158} {} end_at: 2018-12-31 09:32:29.712818 duration: 0:12:21.177042\n"
     ]
    },
    {
     "name": "stdout",
     "output_type": "stream",
     "text": [
      "Epoch 169, losses {'ner': 4.275872084941666} {} end_at: 2018-12-31 09:45:07.123860 duration: 0:12:37.410661\n",
      "Epoch 170, losses {'ner': 3.532226822977235} {'uas': 0.0, 'las': 0.0, 'ents_p': 93.19945230488361, 'ents_r': 94.88847583643123, 'ents_f': 94.03638038222427, 'tags_acc': 0.0, 'token_acc': 100.0} end_at: 2018-12-31 09:59:34.854669 duration: 0:14:27.730102\n",
      "Epoch 171, losses {'ner': 3.197744350510814} {} end_at: 2018-12-31 17:33:17.986234 duration: 7:33:43.129665\n",
      "Epoch 172, losses {'ner': 3.4619128280714957} {} end_at: 2018-12-31 17:45:59.814813 duration: 0:12:41.827269\n",
      "Epoch 173, losses {'ner': 3.709958743090594} {} end_at: 2018-12-31 17:59:50.646661 duration: 0:13:50.831022\n",
      "Epoch 174, losses {'ner': 4.060656280560203} {} end_at: 2018-12-31 18:14:29.132071 duration: 0:14:38.483167\n",
      "Epoch 175, losses {'ner': 4.362917160812601} {'uas': 0.0, 'las': 0.0, 'ents_p': 94.61697722567288, 'ents_r': 95.56226765799256, 'ents_f': 95.08727314761299, 'tags_acc': 0.0, 'token_acc': 100.0} end_at: 2018-12-31 18:30:27.960154 duration: 0:15:58.826675\n",
      "Problem with (\"LE GÉNÉRAL.C'est l'amor qu'il parle par ma bouche porqué c'est là qué yo voudrais vivre\\xa0! Porqué la champre de la peauté qué l'on l'aime, il est comme le… comme le…  (Se levant.)  Pardon, oun moment, oun moment\\xa0!\", 'ACTE PREMIER - SCÈNE VII', 'Et prêchent la retraite au milieu de la cour\\xa0;', 'QUATRIÈME MAXIME.', '-Antonio .\\nBueno\\xa0!  (Il sort.)', \"\\nFOLLAVOINE\\nPour une grosse affaire que je mijote ; ce serait trop long à t'expliquer.\", \"- ANNETTE\\nC'est la salière.\", 'Léopard ou sanglier au poil hérissé,', \"C'est moi que vous mettrez à la place. Sous le voile noir, la nuit, qui le saura\\xa0? Mais sauvez Gilbert\\xa0! Qu'est-ce que cela\", '\\nLe Général -\\nIl m\\'a nommé \"la Canaque\"\\xa0! Boussin\\xa0! \"la Canaque\"\\xa0!  (Il a gagné l\\'extrême gauche n° 1.)', 'Tambour derrière le théâtre.', \"Je vois qu'il reprend tout, et qu'à ma femme même\", \"\\nYVAN. - Retire, retire\\xa0! C'est ridicule\\xa0!\", 'Clitandre et Acaste') ({'entities': [[0, 10, 'SPEAKER']]}, {'entities': [[0, 24, 'SCENE']]}, {'entities': []}, {'entities': []}, {'entities': [[1, 8, 'SPEAKER']]}, {'entities': [[1, 11, 'SPEAKER']]}, {'entities': [[2, 9, 'SPEAKER']]}, {'entities': []}, {'entities': []}, {'entities': [[1, 11, 'SPEAKER']]}, {'entities': [[0, 28, 'COMMENT']]}, {'entities': []}, {'entities': [[1, 5, 'SPEAKER']]}, {'entities': []})\n"
     ]
    },
    {
     "ename": "KeyboardInterrupt",
     "evalue": "",
     "output_type": "error",
     "traceback": [
      "\u001b[0;31m---------------------------------------------------------------------------\u001b[0m",
      "\u001b[0;31mKeyboardInterrupt\u001b[0m                         Traceback (most recent call last)",
      "\u001b[0;32m<ipython-input-86-3d6d31e2c574>\u001b[0m in \u001b[0;36m<module>\u001b[0;34m\u001b[0m\n\u001b[1;32m     16\u001b[0m \u001b[0;34m\u001b[0m\u001b[0m\n\u001b[1;32m     17\u001b[0m             \u001b[0;32mtry\u001b[0m\u001b[0;34m:\u001b[0m\u001b[0;34m\u001b[0m\u001b[0;34m\u001b[0m\u001b[0m\n\u001b[0;32m---> 18\u001b[0;31m                 \u001b[0mnlp\u001b[0m\u001b[0;34m.\u001b[0m\u001b[0mupdate\u001b[0m\u001b[0;34m(\u001b[0m\u001b[0mtexts\u001b[0m\u001b[0;34m,\u001b[0m \u001b[0mannotations\u001b[0m\u001b[0;34m,\u001b[0m \u001b[0msgd\u001b[0m\u001b[0;34m=\u001b[0m\u001b[0moptimizer\u001b[0m\u001b[0;34m,\u001b[0m \u001b[0mdrop\u001b[0m\u001b[0;34m=\u001b[0m\u001b[0;36m0.2\u001b[0m\u001b[0;34m,\u001b[0m \u001b[0mlosses\u001b[0m\u001b[0;34m=\u001b[0m\u001b[0mlosses\u001b[0m\u001b[0;34m)\u001b[0m\u001b[0;34m\u001b[0m\u001b[0;34m\u001b[0m\u001b[0m\n\u001b[0m\u001b[1;32m     19\u001b[0m             \u001b[0;32mexcept\u001b[0m\u001b[0;34m:\u001b[0m\u001b[0;34m\u001b[0m\u001b[0;34m\u001b[0m\u001b[0m\n\u001b[1;32m     20\u001b[0m                 \u001b[0mprint\u001b[0m\u001b[0;34m(\u001b[0m\u001b[0;34m\"Problem with\"\u001b[0m\u001b[0;34m,\u001b[0m \u001b[0mtexts\u001b[0m\u001b[0;34m,\u001b[0m \u001b[0mannotations\u001b[0m\u001b[0;34m)\u001b[0m\u001b[0;34m\u001b[0m\u001b[0;34m\u001b[0m\u001b[0m\n",
      "\u001b[0;32m~/code/nlp.imparato.io/.env/lib/python3.7/site-packages/spacy/language.py\u001b[0m in \u001b[0;36mupdate\u001b[0;34m(self, docs, golds, drop, sgd, losses)\u001b[0m\n\u001b[1;32m    421\u001b[0m             \u001b[0mproc\u001b[0m\u001b[0;34m.\u001b[0m\u001b[0mupdate\u001b[0m\u001b[0;34m(\u001b[0m\u001b[0mdocs\u001b[0m\u001b[0;34m,\u001b[0m \u001b[0mgolds\u001b[0m\u001b[0;34m,\u001b[0m \u001b[0mdrop\u001b[0m\u001b[0;34m=\u001b[0m\u001b[0mdrop\u001b[0m\u001b[0;34m,\u001b[0m \u001b[0msgd\u001b[0m\u001b[0;34m=\u001b[0m\u001b[0mget_grads\u001b[0m\u001b[0;34m,\u001b[0m \u001b[0mlosses\u001b[0m\u001b[0;34m=\u001b[0m\u001b[0mlosses\u001b[0m\u001b[0;34m)\u001b[0m\u001b[0;34m\u001b[0m\u001b[0;34m\u001b[0m\u001b[0m\n\u001b[1;32m    422\u001b[0m             \u001b[0;32mfor\u001b[0m \u001b[0mkey\u001b[0m\u001b[0;34m,\u001b[0m \u001b[0;34m(\u001b[0m\u001b[0mW\u001b[0m\u001b[0;34m,\u001b[0m \u001b[0mdW\u001b[0m\u001b[0;34m)\u001b[0m \u001b[0;32min\u001b[0m \u001b[0mgrads\u001b[0m\u001b[0;34m.\u001b[0m\u001b[0mitems\u001b[0m\u001b[0;34m(\u001b[0m\u001b[0;34m)\u001b[0m\u001b[0;34m:\u001b[0m\u001b[0;34m\u001b[0m\u001b[0;34m\u001b[0m\u001b[0m\n\u001b[0;32m--> 423\u001b[0;31m                 \u001b[0msgd\u001b[0m\u001b[0;34m(\u001b[0m\u001b[0mW\u001b[0m\u001b[0;34m,\u001b[0m \u001b[0mdW\u001b[0m\u001b[0;34m,\u001b[0m \u001b[0mkey\u001b[0m\u001b[0;34m=\u001b[0m\u001b[0mkey\u001b[0m\u001b[0;34m)\u001b[0m\u001b[0;34m\u001b[0m\u001b[0;34m\u001b[0m\u001b[0m\n\u001b[0m\u001b[1;32m    424\u001b[0m \u001b[0;34m\u001b[0m\u001b[0m\n\u001b[1;32m    425\u001b[0m     \u001b[0;32mdef\u001b[0m \u001b[0mpreprocess_gold\u001b[0m\u001b[0;34m(\u001b[0m\u001b[0mself\u001b[0m\u001b[0;34m,\u001b[0m \u001b[0mdocs_golds\u001b[0m\u001b[0;34m)\u001b[0m\u001b[0;34m:\u001b[0m\u001b[0;34m\u001b[0m\u001b[0;34m\u001b[0m\u001b[0m\n",
      "\u001b[0;31mKeyboardInterrupt\u001b[0m: "
     ]
    }
   ],
   "source": [
    "training_start_at = datetime.datetime.now()\n",
    "print(\"Start training at\", training_start_at)\n",
    "\n",
    "other_pipes = [pipe for pipe in nlp.pipe_names if pipe != 'ner']\n",
    "with nlp.disable_pipes(*other_pipes):  # only train NER\n",
    "    for epoch in range(resume_from_it or 0, 201):\n",
    "        start_at = datetime.datetime.now()\n",
    "        random.shuffle(train_data)\n",
    "        losses = {}\n",
    "        # batch up the examples using spaCy's minibatch\n",
    "        batches = minibatch(train_data, size=compounding(4., 32., 1.001))\n",
    "   \n",
    "\n",
    "        for batch in batches:  \n",
    "            texts, annotations = zip(*batch)\n",
    "\n",
    "            try:\n",
    "                nlp.update(texts, annotations, sgd=optimizer, drop=0.2, losses=losses)\n",
    "            except:\n",
    "                print(\"Problem with\", texts, annotations)\n",
    "                raise\n",
    "                    \n",
    "        epoch_model_path = output_path / ('model-%03d' % epoch)\n",
    "        \n",
    "        save_model(nlp, epoch_model_path)\n",
    "        \n",
    "        if epoch % 5 == 0:\n",
    "            scores = evaluate(epoch_model_path, evaluation_data).scores\n",
    "        else:\n",
    "            scores = {}\n",
    "        \n",
    "        end_at = datetime.datetime.now()\n",
    "        \n",
    "        write_stats(epoch, start_at, end_at, losses, scores)\n",
    "       \n",
    "        print('Epoch %d, losses' % epoch, losses, scores, 'end_at:', end_at, 'duration:', end_at - start_at)\n",
    "            \n",
    "            \n",
    "stats_file.close()\n",
    "training_end_at = datetime.datetime.now()\n",
    "print('Training ended at', training_end_at, 'took', training_end_at - training_start_at)"
   ]
  },
  {
   "cell_type": "code",
   "execution_count": 59,
   "metadata": {},
   "outputs": [
    {
     "name": "stdout",
     "output_type": "stream",
     "text": [
      "Accuracy:  {'uas': 0.0, 'las': 0.0, 'ents_p': 89.28894927536231, 'ents_r': 91.61245353159852, 'ents_f': 90.43577981651376, 'tags_acc': 0.0, 'token_acc': 100.0}\n"
     ]
    }
   ],
   "source": [
    "model_path = output_path / 'model-final'\n",
    "save_model(nlp, model_path)\n",
    "scorer = evaluate(model_path, evaluation_data)\n",
    "print(\"Accuracy: \", scorer.scores)"
   ]
  },
  {
   "cell_type": "code",
   "execution_count": 53,
   "metadata": {},
   "outputs": [
    {
     "name": "stdout",
     "output_type": "stream",
     "text": [
      "Accuracy:  {'uas': 0.0, 'las': 0.0, 'ents_p': 100.0, 'ents_r': 100.0, 'ents_f': 100.0, 'tags_acc': 0.0, 'token_acc': 100.0}\n"
     ]
    }
   ],
   "source": [
    "evaluation_data2 = [\n",
    "    (\"Acte Premier\",  { 'entities': [(0, 12, \"ACT\")]}),\n",
    "    (\"scène 1\",  { 'entities': [(0, 7, \"SCENE\")]}),\n",
    "    (\"LE GARAGISTE(, avec humeur.)\\nJe suis ton père\", { 'entities': [(0, 12, \"SPEAKER\"), (15, 27, \"HEAD-COMMENT\")] }),\n",
    "    (\"LUCIEN, étonné : c'est pas vrai\", { 'entities': [(0, 6, \"SPEAKER\"), (8, 14, \"HEAD-COMMENT\")]}),\n",
    "    (\"LE PREMIER : eh si\",  { 'entities': [(0, 10, \"SPEAKER\")]}),\n",
    "    (\"LES AUTRES\\nnon de dieu\",  { 'entities': [(0, 10, \"SPEAKER\")]}),\n",
    "    (\"LUCIEN et LUCIENNE , bien ensemble : c'est nous tous\",  { 'entities': [(0, 19, \"M-SPEAKER\"), (22, 35, \"HEAD-COMMENT\")]}),\n",
    "    (\"RIDEAU\", { 'entities': [(0, 6, \"COMMENT\")]})\n",
    "]\n",
    "\n",
    "# scorer = evaluate(model_path, evaluation_data2)\n",
    "# print(\"Accuracy: \", scorer.scores)"
   ]
  },
  {
   "cell_type": "code",
   "execution_count": 51,
   "metadata": {},
   "outputs": [
    {
     "data": {
      "text/html": [
       "<div class=\"entities\" style=\"line-height: 2.5\">\n",
       "<mark class=\"entity\" style=\"background: #ddd; padding: 0.45em 0.6em; margin: 0 0.25em; line-height: 1; border-radius: 0.35em; box-decoration-break: clone; -webkit-box-decoration-break: clone\">\n",
       "    Acte Premier\n",
       "    <span style=\"font-size: 0.8em; font-weight: bold; line-height: 1; border-radius: 0.35em; text-transform: uppercase; vertical-align: middle; margin-left: 0.5rem\">ACT</span>\n",
       "</mark>\n",
       "</div>"
      ],
      "text/plain": [
       "<IPython.core.display.HTML object>"
      ]
     },
     "metadata": {},
     "output_type": "display_data"
    },
    {
     "data": {
      "text/html": [
       "<div class=\"entities\" style=\"line-height: 2.5\">\n",
       "<mark class=\"entity\" style=\"background: #ddd; padding: 0.45em 0.6em; margin: 0 0.25em; line-height: 1; border-radius: 0.35em; box-decoration-break: clone; -webkit-box-decoration-break: clone\">\n",
       "    scène 1\n",
       "    <span style=\"font-size: 0.8em; font-weight: bold; line-height: 1; border-radius: 0.35em; text-transform: uppercase; vertical-align: middle; margin-left: 0.5rem\">SCENE</span>\n",
       "</mark>\n",
       "</div>"
      ],
      "text/plain": [
       "<IPython.core.display.HTML object>"
      ]
     },
     "metadata": {},
     "output_type": "display_data"
    },
    {
     "data": {
      "text/html": [
       "<div class=\"entities\" style=\"line-height: 2.5\">\n",
       "<mark class=\"entity\" style=\"background: #ddd; padding: 0.45em 0.6em; margin: 0 0.25em; line-height: 1; border-radius: 0.35em; box-decoration-break: clone; -webkit-box-decoration-break: clone\">\n",
       "    LE GARAGISTE\n",
       "    <span style=\"font-size: 0.8em; font-weight: bold; line-height: 1; border-radius: 0.35em; text-transform: uppercase; vertical-align: middle; margin-left: 0.5rem\">SPEAKER</span>\n",
       "</mark>\n",
       "(, \n",
       "<mark class=\"entity\" style=\"background: #ddd; padding: 0.45em 0.6em; margin: 0 0.25em; line-height: 1; border-radius: 0.35em; box-decoration-break: clone; -webkit-box-decoration-break: clone\">\n",
       "    avec humeur.\n",
       "    <span style=\"font-size: 0.8em; font-weight: bold; line-height: 1; border-radius: 0.35em; text-transform: uppercase; vertical-align: middle; margin-left: 0.5rem\">HEAD-COMMENT</span>\n",
       "</mark>\n",
       ")\n",
       "Je suis ton père</div>"
      ],
      "text/plain": [
       "<IPython.core.display.HTML object>"
      ]
     },
     "metadata": {},
     "output_type": "display_data"
    },
    {
     "data": {
      "text/html": [
       "<div class=\"entities\" style=\"line-height: 2.5\">\n",
       "<mark class=\"entity\" style=\"background: #ddd; padding: 0.45em 0.6em; margin: 0 0.25em; line-height: 1; border-radius: 0.35em; box-decoration-break: clone; -webkit-box-decoration-break: clone\">\n",
       "    LUCIEN\n",
       "    <span style=\"font-size: 0.8em; font-weight: bold; line-height: 1; border-radius: 0.35em; text-transform: uppercase; vertical-align: middle; margin-left: 0.5rem\">SPEAKER</span>\n",
       "</mark>\n",
       ", \n",
       "<mark class=\"entity\" style=\"background: #ddd; padding: 0.45em 0.6em; margin: 0 0.25em; line-height: 1; border-radius: 0.35em; box-decoration-break: clone; -webkit-box-decoration-break: clone\">\n",
       "    étonné\n",
       "    <span style=\"font-size: 0.8em; font-weight: bold; line-height: 1; border-radius: 0.35em; text-transform: uppercase; vertical-align: middle; margin-left: 0.5rem\">HEAD-COMMENT</span>\n",
       "</mark>\n",
       " : c'est pas vrai</div>"
      ],
      "text/plain": [
       "<IPython.core.display.HTML object>"
      ]
     },
     "metadata": {},
     "output_type": "display_data"
    },
    {
     "data": {
      "text/html": [
       "<div class=\"entities\" style=\"line-height: 2.5\">\n",
       "<mark class=\"entity\" style=\"background: #ddd; padding: 0.45em 0.6em; margin: 0 0.25em; line-height: 1; border-radius: 0.35em; box-decoration-break: clone; -webkit-box-decoration-break: clone\">\n",
       "    LE PREMIER\n",
       "    <span style=\"font-size: 0.8em; font-weight: bold; line-height: 1; border-radius: 0.35em; text-transform: uppercase; vertical-align: middle; margin-left: 0.5rem\">SPEAKER</span>\n",
       "</mark>\n",
       " : eh si</div>"
      ],
      "text/plain": [
       "<IPython.core.display.HTML object>"
      ]
     },
     "metadata": {},
     "output_type": "display_data"
    },
    {
     "data": {
      "text/html": [
       "<div class=\"entities\" style=\"line-height: 2.5\">\n",
       "<mark class=\"entity\" style=\"background: #ddd; padding: 0.45em 0.6em; margin: 0 0.25em; line-height: 1; border-radius: 0.35em; box-decoration-break: clone; -webkit-box-decoration-break: clone\">\n",
       "    LES AUTRES\n",
       "    <span style=\"font-size: 0.8em; font-weight: bold; line-height: 1; border-radius: 0.35em; text-transform: uppercase; vertical-align: middle; margin-left: 0.5rem\">SPEAKER</span>\n",
       "</mark>\n",
       "\n",
       "non de dieu</div>"
      ],
      "text/plain": [
       "<IPython.core.display.HTML object>"
      ]
     },
     "metadata": {},
     "output_type": "display_data"
    },
    {
     "data": {
      "text/html": [
       "<div class=\"entities\" style=\"line-height: 2.5\">\n",
       "<mark class=\"entity\" style=\"background: #ddd; padding: 0.45em 0.6em; margin: 0 0.25em; line-height: 1; border-radius: 0.35em; box-decoration-break: clone; -webkit-box-decoration-break: clone\">\n",
       "    LUCIEN et LUCIENNE\n",
       "    <span style=\"font-size: 0.8em; font-weight: bold; line-height: 1; border-radius: 0.35em; text-transform: uppercase; vertical-align: middle; margin-left: 0.5rem\">M-SPEAKERS</span>\n",
       "</mark>\n",
       " , \n",
       "<mark class=\"entity\" style=\"background: #ddd; padding: 0.45em 0.6em; margin: 0 0.25em; line-height: 1; border-radius: 0.35em; box-decoration-break: clone; -webkit-box-decoration-break: clone\">\n",
       "    bien ensemble\n",
       "    <span style=\"font-size: 0.8em; font-weight: bold; line-height: 1; border-radius: 0.35em; text-transform: uppercase; vertical-align: middle; margin-left: 0.5rem\">HEAD-COMMENT</span>\n",
       "</mark>\n",
       " : c'est nous tous</div>"
      ],
      "text/plain": [
       "<IPython.core.display.HTML object>"
      ]
     },
     "metadata": {},
     "output_type": "display_data"
    },
    {
     "data": {
      "text/html": [
       "<div class=\"entities\" style=\"line-height: 2.5\">\n",
       "<mark class=\"entity\" style=\"background: #ddd; padding: 0.45em 0.6em; margin: 0 0.25em; line-height: 1; border-radius: 0.35em; box-decoration-break: clone; -webkit-box-decoration-break: clone\">\n",
       "    RIDEAU\n",
       "    <span style=\"font-size: 0.8em; font-weight: bold; line-height: 1; border-radius: 0.35em; text-transform: uppercase; vertical-align: middle; margin-left: 0.5rem\">COMMENT</span>\n",
       "</mark>\n",
       "</div>"
      ],
      "text/plain": [
       "<IPython.core.display.HTML object>"
      ]
     },
     "metadata": {},
     "output_type": "display_data"
    }
   ],
   "source": [
    "def render_evaluation(model_path, evaluation):\n",
    "    nlp_loaded = load_model_from_path(model_path)\n",
    "    for (text, _) in evaluation:\n",
    "        doc = nlp_loaded(text)\n",
    "        if len(doc.ents) == 0:\n",
    "            print(text)\n",
    "        else:\n",
    "            displacy.render(doc, style=\"ent\", jupyter=True)\n",
    "\n",
    "render_evaluation(model_path, evaluation_data2) "
   ]
  },
  {
   "cell_type": "code",
   "execution_count": 49,
   "metadata": {},
   "outputs": [
    {
     "name": "stdout",
     "output_type": "stream",
     "text": [
      "         ACT 0   -> 12  Acte Premier\n",
      "       SCENE 0   -> 7   scène 1\n",
      "     SPEAKER 0   -> 12  LE GARAGISTE\n",
      "HEAD-COMMENT 15  -> 27  avec humeur.\n",
      "     SPEAKER 0   -> 6   LUCIEN\n",
      "HEAD-COMMENT 8   -> 14  étonné\n",
      "     SPEAKER 0   -> 10  LE PREMIER\n",
      "     SPEAKER 0   -> 10  LES AUTRES\n",
      "  M-SPEAKERS 0   -> 18  LUCIEN et LUCIENNE\n",
      "     COMMENT 0   -> 6   RIDEAU\n"
     ]
    }
   ],
   "source": [
    "def debug_evaluation(evaluation):\n",
    "    text, _ = zip(*evaluation)\n",
    "    \n",
    "    docs = nlp.pipe(text)\n",
    "    \n",
    "    for doc in docs:\n",
    "        [print(\n",
    "            \"{:>12}\".format(e.label_),\n",
    "            \"{:<3}\".format(e.start_char),\n",
    "            \"->\",\n",
    "            \"{:<3}\".format(e.end_char),\n",
    "            e.text) for e in doc.ents]\n",
    "debug_evaluation(evaluation_data2)"
   ]
  },
  {
   "cell_type": "code",
   "execution_count": 64,
   "metadata": {},
   "outputs": [
    {
     "data": {
      "text/plain": [
       "[49,\n",
       " 50,\n",
       " 51,\n",
       " 52,\n",
       " 53,\n",
       " 54,\n",
       " 55,\n",
       " 56,\n",
       " 57,\n",
       " 58,\n",
       " 59,\n",
       " 60,\n",
       " 61,\n",
       " 62,\n",
       " 63,\n",
       " 64,\n",
       " 65,\n",
       " 66,\n",
       " 67,\n",
       " 68,\n",
       " 69,\n",
       " 70,\n",
       " 71,\n",
       " 72,\n",
       " 73,\n",
       " 74,\n",
       " 75,\n",
       " 76,\n",
       " 77,\n",
       " 78,\n",
       " 79]"
      ]
     },
     "execution_count": 64,
     "metadata": {},
     "output_type": "execute_result"
    }
   ],
   "source": []
  },
  {
   "cell_type": "code",
   "execution_count": null,
   "metadata": {},
   "outputs": [],
   "source": []
  },
  {
   "cell_type": "code",
   "execution_count": null,
   "metadata": {},
   "outputs": [],
   "source": []
  },
  {
   "cell_type": "code",
   "execution_count": null,
   "metadata": {},
   "outputs": [],
   "source": []
  },
  {
   "cell_type": "code",
   "execution_count": null,
   "metadata": {},
   "outputs": [],
   "source": []
  },
  {
   "cell_type": "code",
   "execution_count": null,
   "metadata": {},
   "outputs": [],
   "source": []
  },
  {
   "cell_type": "code",
   "execution_count": null,
   "metadata": {},
   "outputs": [],
   "source": []
  },
  {
   "cell_type": "code",
   "execution_count": null,
   "metadata": {},
   "outputs": [],
   "source": []
  },
  {
   "cell_type": "code",
   "execution_count": null,
   "metadata": {},
   "outputs": [],
   "source": []
  },
  {
   "cell_type": "code",
   "execution_count": null,
   "metadata": {},
   "outputs": [],
   "source": []
  },
  {
   "cell_type": "code",
   "execution_count": null,
   "metadata": {},
   "outputs": [],
   "source": []
  },
  {
   "cell_type": "code",
   "execution_count": null,
   "metadata": {},
   "outputs": [],
   "source": []
  },
  {
   "cell_type": "code",
   "execution_count": null,
   "metadata": {},
   "outputs": [],
   "source": []
  },
  {
   "cell_type": "code",
   "execution_count": null,
   "metadata": {},
   "outputs": [],
   "source": []
  },
  {
   "cell_type": "code",
   "execution_count": null,
   "metadata": {},
   "outputs": [],
   "source": []
  },
  {
   "cell_type": "code",
   "execution_count": null,
   "metadata": {},
   "outputs": [],
   "source": []
  },
  {
   "cell_type": "code",
   "execution_count": null,
   "metadata": {},
   "outputs": [],
   "source": []
  },
  {
   "cell_type": "code",
   "execution_count": null,
   "metadata": {},
   "outputs": [],
   "source": []
  },
  {
   "cell_type": "code",
   "execution_count": null,
   "metadata": {},
   "outputs": [],
   "source": []
  },
  {
   "cell_type": "code",
   "execution_count": null,
   "metadata": {},
   "outputs": [],
   "source": []
  },
  {
   "cell_type": "code",
   "execution_count": null,
   "metadata": {},
   "outputs": [],
   "source": []
  },
  {
   "cell_type": "code",
   "execution_count": null,
   "metadata": {},
   "outputs": [],
   "source": []
  },
  {
   "cell_type": "code",
   "execution_count": null,
   "metadata": {},
   "outputs": [],
   "source": []
  },
  {
   "cell_type": "code",
   "execution_count": null,
   "metadata": {},
   "outputs": [],
   "source": []
  },
  {
   "cell_type": "code",
   "execution_count": null,
   "metadata": {},
   "outputs": [],
   "source": []
  },
  {
   "cell_type": "code",
   "execution_count": null,
   "metadata": {},
   "outputs": [],
   "source": []
  },
  {
   "cell_type": "code",
   "execution_count": null,
   "metadata": {},
   "outputs": [],
   "source": []
  },
  {
   "cell_type": "code",
   "execution_count": null,
   "metadata": {},
   "outputs": [],
   "source": []
  },
  {
   "cell_type": "code",
   "execution_count": null,
   "metadata": {},
   "outputs": [],
   "source": []
  },
  {
   "cell_type": "code",
   "execution_count": null,
   "metadata": {},
   "outputs": [],
   "source": []
  },
  {
   "cell_type": "code",
   "execution_count": null,
   "metadata": {},
   "outputs": [],
   "source": []
  },
  {
   "cell_type": "code",
   "execution_count": null,
   "metadata": {},
   "outputs": [],
   "source": []
  },
  {
   "cell_type": "code",
   "execution_count": null,
   "metadata": {},
   "outputs": [],
   "source": []
  },
  {
   "cell_type": "code",
   "execution_count": null,
   "metadata": {},
   "outputs": [],
   "source": []
  },
  {
   "cell_type": "code",
   "execution_count": null,
   "metadata": {},
   "outputs": [],
   "source": []
  },
  {
   "cell_type": "code",
   "execution_count": null,
   "metadata": {},
   "outputs": [],
   "source": []
  },
  {
   "cell_type": "code",
   "execution_count": null,
   "metadata": {},
   "outputs": [],
   "source": []
  },
  {
   "cell_type": "code",
   "execution_count": null,
   "metadata": {},
   "outputs": [],
   "source": []
  },
  {
   "cell_type": "code",
   "execution_count": null,
   "metadata": {},
   "outputs": [],
   "source": []
  },
  {
   "cell_type": "code",
   "execution_count": null,
   "metadata": {},
   "outputs": [],
   "source": []
  },
  {
   "cell_type": "code",
   "execution_count": null,
   "metadata": {},
   "outputs": [],
   "source": []
  },
  {
   "cell_type": "code",
   "execution_count": null,
   "metadata": {},
   "outputs": [],
   "source": []
  },
  {
   "cell_type": "code",
   "execution_count": null,
   "metadata": {},
   "outputs": [],
   "source": []
  },
  {
   "cell_type": "code",
   "execution_count": null,
   "metadata": {},
   "outputs": [],
   "source": []
  },
  {
   "cell_type": "code",
   "execution_count": null,
   "metadata": {},
   "outputs": [],
   "source": []
  },
  {
   "cell_type": "code",
   "execution_count": null,
   "metadata": {},
   "outputs": [],
   "source": []
  },
  {
   "cell_type": "code",
   "execution_count": null,
   "metadata": {},
   "outputs": [],
   "source": []
  },
  {
   "cell_type": "code",
   "execution_count": null,
   "metadata": {},
   "outputs": [],
   "source": []
  },
  {
   "cell_type": "code",
   "execution_count": null,
   "metadata": {},
   "outputs": [],
   "source": []
  },
  {
   "cell_type": "code",
   "execution_count": null,
   "metadata": {},
   "outputs": [],
   "source": []
  }
 ],
 "metadata": {
  "kernelspec": {
   "display_name": "Python 3",
   "language": "python",
   "name": "python3"
  },
  "language_info": {
   "codemirror_mode": {
    "name": "ipython",
    "version": 3
   },
   "file_extension": ".py",
   "mimetype": "text/x-python",
   "name": "python",
   "nbconvert_exporter": "python",
   "pygments_lexer": "ipython3",
   "version": "3.7.2"
  }
 },
 "nbformat": 4,
 "nbformat_minor": 2
}
