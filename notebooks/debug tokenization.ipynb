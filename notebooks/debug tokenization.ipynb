{
 "cells": [
  {
   "cell_type": "code",
   "execution_count": 2,
   "metadata": {},
   "outputs": [],
   "source": [
    "import os\n",
    "import sys\n",
    "module_path = os.path.abspath(os.path.join('..'))\n",
    "if module_path not in sys.path:\n",
    "    sys.path.append(module_path)"
   ]
  },
  {
   "cell_type": "code",
   "execution_count": 3,
   "metadata": {},
   "outputs": [],
   "source": [
    "# %load_ext autoreload\n",
    "import ujson as json\n",
    "from pathlib import Path\n",
    "import spacy\n",
    "from spacy.gold import GoldParse\n",
    "from spacy.scorer import Scorer\n",
    "from spacy.util import load_model_from_path\n",
    "from lang.fr import model"
   ]
  },
  {
   "cell_type": "code",
   "execution_count": 5,
   "metadata": {},
   "outputs": [],
   "source": [
    "model_path = \"../models/plays-small-batches/epoch-879\"\n",
    "test_path = \"../../api.imparato.io/tmp/nlp/full/fulltext-41.json\"\n",
    "test_path = \"../training/evaluation/fulltext-656.json\"\n",
    "\n",
    "def load():\n",
    "    with open(test_path, 'r', encoding=\"utf-8\") as file:\n",
    "        return json.loads(file.read())"
   ]
  },
  {
   "cell_type": "code",
   "execution_count": null,
   "metadata": {},
   "outputs": [],
   "source": []
  },
  {
   "cell_type": "code",
   "execution_count": 6,
   "metadata": {},
   "outputs": [],
   "source": [
    "nlp = load_model_from_path(model_path)\n",
    "model.configure(nlp)\n"
   ]
  },
  {
   "cell_type": "code",
   "execution_count": 5,
   "metadata": {},
   "outputs": [],
   "source": []
  },
  {
   "cell_type": "code",
   "execution_count": null,
   "metadata": {},
   "outputs": [],
   "source": [
    "tokenizer_test = \"\"\"\n",
    "-Le Monsieur.\n",
    "Hey ho!\n",
    "\n",
    "Le Gentil- C'est moi\n",
    "ÉLISE, Je vous demande pardon!\n",
    "\n",
    "MADAME X.\n",
    "Je suis la dame de la S.N.C.F !\n",
    "\n",
    "LA SERVANTE-Il n'annonce rien de bon.\n",
    "La Servante-Il n'annonce rien de bon.\n",
    "Une celle-de già so per prova\n",
    "Le grand-oncle: seul\n",
    "Le grand-prêtre-Silence!\n",
    "\"\"\"\n",
    "doc_test = nlp(tokenizer_test)\n",
    "for token in doc_test:\n",
    "    print(token)"
   ]
  },
  {
   "cell_type": "code",
   "execution_count": 7,
   "metadata": {},
   "outputs": [],
   "source": [
    "def debug(text, annotations):\n",
    "    scorer = Scorer()\n",
    "    \n",
    "    doc = nlp(text)\n",
    "    gold = GoldParse(doc, **annotations)\n",
    "\n",
    "    prediction = nlp(text)\n",
    "\n",
    "    for token in gold.orig_annot:\n",
    "        if token[-1] == \"-\":\n",
    "            print(token, \"-\")\n",
    "\n",
    "    return doc"
   ]
  },
  {
   "cell_type": "code",
   "execution_count": 8,
   "metadata": {},
   "outputs": [
    {
     "name": "stdout",
     "output_type": "stream",
     "text": [
      "Done\n"
     ]
    }
   ],
   "source": [
    "text, annotations = load()\n",
    "doc = debug(text, annotations)\n",
    "\n",
    "starts = {token.idx: token.i for token in doc}\n",
    "ends = {token.idx+len(token): token.i for token in doc}\n",
    "\n",
    "for start_char, end_char, label in annotations['entities']:\n",
    "    start_token = starts.get(start_char)\n",
    "    end_token = ends.get(end_char)\n",
    "    # Only interested if the tokenization is correct\n",
    "    if start_token is not None and end_token is not None:\n",
    "        pass\n",
    "    else:\n",
    "        print(\"Tokenization failed start_char\", start_char, \"end_char\", end_char, \"start_token:\", start_token, 'end_token:', end_token)\n",
    "print(\"Done\")"
   ]
  },
  {
   "cell_type": "code",
   "execution_count": null,
   "metadata": {},
   "outputs": [],
   "source": [
    "# t = text[23549:23577]\n",
    "# print('t', t) #.text, t.idx, len(token))"
   ]
  },
  {
   "cell_type": "code",
   "execution_count": null,
   "metadata": {},
   "outputs": [],
   "source": []
  },
  {
   "cell_type": "code",
   "execution_count": 23,
   "metadata": {},
   "outputs": [],
   "source": []
  },
  {
   "cell_type": "code",
   "execution_count": null,
   "metadata": {},
   "outputs": [],
   "source": [
    "    "
   ]
  },
  {
   "cell_type": "code",
   "execution_count": null,
   "metadata": {},
   "outputs": [],
   "source": []
  },
  {
   "cell_type": "code",
   "execution_count": null,
   "metadata": {},
   "outputs": [],
   "source": []
  }
 ],
 "metadata": {
  "kernelspec": {
   "display_name": "Python 3",
   "language": "python",
   "name": "python3"
  },
  "language_info": {
   "codemirror_mode": {
    "name": "ipython",
    "version": 3
   },
   "file_extension": ".py",
   "mimetype": "text/x-python",
   "name": "python",
   "nbconvert_exporter": "python",
   "pygments_lexer": "ipython3",
   "version": "3.7.2"
  }
 },
 "nbformat": 4,
 "nbformat_minor": 2
}
